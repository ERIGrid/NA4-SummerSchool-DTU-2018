{
 "cells": [
  {
   "cell_type": "markdown",
   "metadata": {},
   "source": [
    "# DoE - One-way ANOVA\n",
    "The purpose of this notebook is to show you an example of how to apply the DoE technique called one-way Analysis of Variance (ANOVA). It uses the same scenario as the basis notebook."
   ]
  },
  {
   "cell_type": "code",
   "execution_count": 1,
   "metadata": {},
   "outputs": [],
   "source": [
    "import random\n",
    "import pandas as pd\n",
    "import HEMS_sim"
   ]
  },
  {
   "cell_type": "code",
   "execution_count": 2,
   "metadata": {},
   "outputs": [],
   "source": [
    "# Dictionary with basic configuration of the simulation\n",
    "\n",
    "basic_conf = {\n",
    "    'ID':'00',\n",
    "    'batt_storage_capacity':20,\n",
    "    'batt_charge_capacity':5,\n",
    "    'pv1_scaling':1,\n",
    "    'controller_change_rate':0.5,\n",
    "    'climate_conditions':'sunny',\n",
    "    'season':'autumn',\n",
    "    'random_weather':False,\n",
    "    'stochastic':True,\n",
    "    'noise_scale':1}"
   ]
  },
  {
   "cell_type": "code",
   "execution_count": 3,
   "metadata": {},
   "outputs": [],
   "source": [
    "# Scenario name which determines the name of the files we will be saving with the results\n",
    "scenario_name = 'with_noise_2'\n",
    "\n",
    "variations = {'run_01': {'ID':'01','batt_storage_capacity':15,'controller_change_rate':0.3,\n",
    "                         'season': 'summer'},\n",
    "              'run_02': {'ID':'02','batt_storage_capacity':25,'controller_change_rate':0.3,\n",
    "                         'season': 'summer'},\n",
    "              'run_03': {'ID':'03','batt_storage_capacity':15,'controller_change_rate':0.7,\n",
    "                         'season': 'summer'},\n",
    "              'run_04': {'ID':'04','batt_storage_capacity':25,'controller_change_rate':0.7,\n",
    "                         'season': 'summer'}}\n",
    "              \n",
    "\n",
    "# Merging of the basic configuration and the variations\n",
    "recipes = {key: basic_conf.copy() for key in variations}\n",
    "recipes = {key: {**recipes[key],**data} for key,data in variations.items()}\n"
   ]
  },
  {
   "cell_type": "code",
   "execution_count": 7,
   "metadata": {
    "scrolled": true
   },
   "outputs": [],
   "source": [
    "%%capture --no-stderr\n",
    "# Suppress output from running scenarios (Prevents massive size of notebooks)\n",
    "for recipe in recipes:\n",
    "    HEMS_sim.run_simulation(scenario_name,recipes[recipe])"
   ]
  },
  {
   "cell_type": "markdown",
   "metadata": {},
   "source": [
    "## ANOVA\n",
    "In the first cell below, we load the summary statistics. We are going to analyse the self-consumption index. This is done using the ``stats`` module of the ``scipy`` library in the second cell below. See the [associated presentation](doe_erigrid_dtu_summerschool_2018-08-28.pdf) for an explanation of what ANOVA is"
   ]
  },
  {
   "cell_type": "code",
   "execution_count": 11,
   "metadata": {},
   "outputs": [
    {
     "data": {
      "text/html": [
       "<div>\n",
       "<style scoped>\n",
       "    .dataframe tbody tr th:only-of-type {\n",
       "        vertical-align: middle;\n",
       "    }\n",
       "\n",
       "    .dataframe tbody tr th {\n",
       "        vertical-align: top;\n",
       "    }\n",
       "\n",
       "    .dataframe thead th {\n",
       "        text-align: right;\n",
       "    }\n",
       "</style>\n",
       "<table border=\"1\" class=\"dataframe\">\n",
       "  <thead>\n",
       "    <tr style=\"text-align: right;\">\n",
       "      <th></th>\n",
       "      <th>ID</th>\n",
       "      <th>Energy bill [DKK/kWh]</th>\n",
       "      <th>Max. in-feed [kW]</th>\n",
       "      <th>Energy Imported [kWh]</th>\n",
       "      <th>Energy exported [kWh]</th>\n",
       "      <th>Self consumption index</th>\n",
       "      <th>pv1_capacity [kW]</th>\n",
       "      <th>battery storage capacity [kWh]</th>\n",
       "      <th>battery charge capacity[kW]</th>\n",
       "      <th>climate_conditions</th>\n",
       "      <th>controller_change_rate</th>\n",
       "      <th>season</th>\n",
       "      <th>File ID/dataframe</th>\n",
       "    </tr>\n",
       "  </thead>\n",
       "  <tbody>\n",
       "    <tr>\n",
       "      <th>0</th>\n",
       "      <td>01</td>\n",
       "      <td>1.090256</td>\n",
       "      <td>7.411807</td>\n",
       "      <td>2.795528</td>\n",
       "      <td>-26.55005</td>\n",
       "      <td>0.326251</td>\n",
       "      <td>1</td>\n",
       "      <td>15</td>\n",
       "      <td>5</td>\n",
       "      <td>sunny</td>\n",
       "      <td>0.3</td>\n",
       "      <td>summer</td>\n",
       "      <td>with_noise_2/timeseries/sim_01</td>\n",
       "    </tr>\n",
       "  </tbody>\n",
       "</table>\n",
       "</div>"
      ],
      "text/plain": [
       "   ID  Energy bill [DKK/kWh]  Max. in-feed [kW]  Energy Imported [kWh]  \\\n",
       "0  01               1.090256           7.411807               2.795528   \n",
       "\n",
       "   Energy exported [kWh]  Self consumption index  pv1_capacity [kW]  \\\n",
       "0              -26.55005                0.326251                  1   \n",
       "\n",
       "   battery storage capacity [kWh]  battery charge capacity[kW]  \\\n",
       "0                              15                            5   \n",
       "\n",
       "  climate_conditions  controller_change_rate  season  \\\n",
       "0              sunny                     0.3  summer   \n",
       "\n",
       "                File ID/dataframe  \n",
       "0  with_noise_2/timeseries/sim_01  "
      ]
     },
     "execution_count": 11,
     "metadata": {},
     "output_type": "execute_result"
    }
   ],
   "source": [
    "run_store = pd.HDFStore('temp_files/runs_summary_{}.h5'.format(scenario_name))\n",
    "summary_1 = run_store[run_store.keys()[0]]\n",
    "summary_2 = run_store[run_store.keys()[1]]\n",
    "summary_3 = run_store[run_store.keys()[2]]\n",
    "summary_4 = run_store[run_store.keys()[3]]\n",
    "run_store.close()\n",
    "\n",
    "sci1 = summary_1['Self consumption index'].values[0]\n",
    "sci2 = summary_2['Self consumption index'].values[0]\n",
    "sci3 = summary_3['Self consumption index'].values[0]\n",
    "sci4 = summary_4['Self consumption index'].values[0]\n",
    "summary_1"
   ]
  },
  {
   "cell_type": "code",
   "execution_count": 12,
   "metadata": {},
   "outputs": [
    {
     "name": "stdout",
     "output_type": "stream",
     "text": [
      "0.32625115658005654 0.44977180886861956 0.3326812346976705 0.4415550382746309\n",
      "496.1103810390756 0.00011774876930990059 0.007944035776209857\n",
      "0.002009606408445189 0.9923272613321021 0.9371008475390368\n"
     ]
    }
   ],
   "source": [
    "from scipy import stats\n",
    "Fa, pa = stats.f_oneway([sci1, sci3], [sci2, sci4])\n",
    "Fb, pb = stats.f_oneway([sci1, sci2], [sci3, sci4])\n",
    "Fab, pab = stats.f_oneway([sci1, sci4], [sci2, sci3])\n",
    "print(sci1, sci2, sci3, sci4)\n",
    "print(Fa, Fb, Fab)\n",
    "print(pa, pb, pab)"
   ]
  },
  {
   "cell_type": "code",
   "execution_count": 15,
   "metadata": {},
   "outputs": [
    {
     "data": {
      "text/plain": [
       "<matplotlib.legend.Legend at 0x7f880a2a6860>"
      ]
     },
     "execution_count": 15,
     "metadata": {},
     "output_type": "execute_result"
    },
    {
     "data": {
      "image/png": "[encoded data removed]",
      "text/plain": [
       "<Figure size 432x288 with 1 Axes>"
      ]
     },
     "metadata": {},
     "output_type": "display_data"
    }
   ],
   "source": [
    "import matplotlib.pyplot as plt\n",
    "plt.plot([1, 2], [(sci1+sci3)/2, (sci2+sci4)/2], 'b-', label=\"Effect of capacity\")\n",
    "plt.plot([1, 2], [(sci1+sci2)/2, (sci3+sci4)/2], 'r-', label=\"Effect of controller change rate\")\n",
    "plt.legend()"
   ]
  },
  {
   "cell_type": "code",
   "execution_count": null,
   "metadata": {},
   "outputs": [],
   "source": []
  }
 ],
 "metadata": {
  "kernelspec": {
   "display_name": "Python 3",
   "language": "python",
   "name": "python3"
  },
  "language_info": {
   "codemirror_mode": {
    "name": "ipython",
    "version": 3
   },
   "file_extension": ".py",
   "mimetype": "text/x-python",
   "name": "python",
   "nbconvert_exporter": "python",
   "pygments_lexer": "ipython3",
   "version": "3.6.7"
  }
 },
 "nbformat": 4,
 "nbformat_minor": 2
}

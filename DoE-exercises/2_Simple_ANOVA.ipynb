{
 "cells": [
  {
   "cell_type": "markdown",
   "metadata": {},
   "source": [
    "# DoE - One-way ANOVA\n",
    "The purpose of this notebook is to show you an example of how to apply the DoE technique called one-way Analysis of Variance (ANOVA). It uses the same scenario as the basis notebook."
   ]
  },
  {
   "cell_type": "code",
   "execution_count": 1,
   "metadata": {},
   "outputs": [],
   "source": [
    "import random\n",
    "import pandas as pd\n",
    "import HEMS_sim"
   ]
  },
  {
   "cell_type": "code",
   "execution_count": 2,
   "metadata": {},
   "outputs": [],
   "source": [
    "# Dictionary with basic configuration of the simulation\n",
    "\n",
    "basic_conf = {\n",
    "    'ID':'00',\n",
    "    'batt_storage_capacity':20,\n",
    "    'batt_charge_capacity':5,\n",
    "    'pv1_scaling':1,\n",
    "    'controller_change_rate':0.5,\n",
    "    'climate_conditions':'sunny',\n",
    "    'season':'autumn',\n",
    "    'random_weather':False,\n",
    "    'stochastic':True,\n",
    "    'noise_scale':1}"
   ]
  },
  {
   "cell_type": "code",
   "execution_count": 3,
   "metadata": {},
   "outputs": [],
   "source": [
    "# Scenario name which determines the name of the files we will be saving with the results\n",
    "scenario_name = 'with_noise_2'\n",
    "\n",
    "variations = {'run_01': {'ID':'01','batt_storage_capacity':15,'controller_change_rate':0.3,\n",
    "                         'season': 'summer'},\n",
    "              'run_02': {'ID':'02','batt_storage_capacity':25,'controller_change_rate':0.3,\n",
    "                         'season': 'summer'},\n",
    "              'run_03': {'ID':'03','batt_storage_capacity':15,'controller_change_rate':0.7,\n",
    "                         'season': 'summer'},\n",
    "              'run_04': {'ID':'04','batt_storage_capacity':25,'controller_change_rate':0.7,\n",
    "                         'season': 'summer'}}\n",
    "              \n",
    "\n",
    "# Merging of the basic configuration and the variations\n",
    "recipes = {key: basic_conf.copy() for key in variations}\n",
    "recipes = {key: {**recipes[key],**data} for key,data in variations.items()}\n"
   ]
  },
  {
   "cell_type": "code",
   "execution_count": 4,
   "metadata": {
    "scrolled": true
   },
   "outputs": [
    {
     "name": "stdout",
     "output_type": "stream",
     "text": [
      "Starting \"DemandModel\" as \"DemandModel-0\" ...\n",
      "Starting \"SimpleGridModel\" as \"SimpleGridModel-0\" ...\n",
      "Starting \"CollectorSim\" as \"CollectorSim-0\" ...\n",
      "Starting \"PVModel\" as \"PVModel-0\" ...\n",
      "Starting \"BatteryModel\" as \"BatteryModel-0\" ...\n",
      "Starting \"Control\" as \"Control-0\" ...\n",
      "Starting \"NoiseGenerator\" as \"NoiseGenerator-0\" ...\n",
      "Starting simulation.\n"
     ]
    },
    {
     "name": "stdout",
     "output_type": "stream",
     "text": [
      "\r",
      "Simulation finished successfully.\n",
      "Saved to store: temp_files/with_noise_data.h5, dataframe: timeseries/sim_01\n",
      "MultiIndex(levels=[['BatteryModel-0.batt__0', 'DemandModel-0.demand__0', 'NoiseGenerator-0.ng__0', 'PVModel-0.pv__0'], ['BattP', 'BattSoC', 'DemP', 'GridP', 'SolarP']],\n",
      "           labels=[[0, 0, 1, 2, 3], [0, 1, 2, 3, 4]])\n",
      "   ID  Energy bill [DKK/kWh]  Max. in-feed [kW]  Energy Imported [kWh]  \\\n",
      "0  01               1.022206           7.150791               2.621042   \n",
      "\n",
      "   Energy exported [kWh]  Self consumption index  pv1_capacity [kW]  \\\n",
      "0             -26.055999                0.338788                  1   \n",
      "\n",
      "   battery storage capacity [kWh]  battery charge capacity[kW]  \\\n",
      "0                              15                            5   \n",
      "\n",
      "  climate_conditions             File ID/dataframe  \n",
      "0              sunny  with_noise/timeseries/sim_01  \n",
      "Starting \"DemandModel\" as \"DemandModel-0\" ...\n",
      "Starting \"SimpleGridModel\" as \"SimpleGridModel-0\" ...\n",
      "Starting \"CollectorSim\" as \"CollectorSim-0\" ...\n",
      "Starting \"PVModel\" as \"PVModel-0\" ...\n",
      "Starting \"BatteryModel\" as \"BatteryModel-0\" ...\n",
      "Starting \"Control\" as \"Control-0\" ...\n",
      "Starting \"NoiseGenerator\" as \"NoiseGenerator-0\" ...\n",
      "Starting simulation.\n"
     ]
    },
    {
     "name": "stdout",
     "output_type": "stream",
     "text": [
      "\r",
      "Simulation finished successfully.\n",
      "Saved to store: temp_files/with_noise_data.h5, dataframe: timeseries/sim_02\n",
      "MultiIndex(levels=[['BatteryModel-0.batt__0', 'DemandModel-0.demand__0', 'NoiseGenerator-0.ng__0', 'PVModel-0.pv__0'], ['BattP', 'BattSoC', 'DemP', 'GridP', 'SolarP']],\n",
      "           labels=[[0, 0, 1, 2, 3], [0, 1, 2, 3, 4]])\n",
      "   ID  Energy bill [DKK/kWh]  Max. in-feed [kW]  Energy Imported [kWh]  \\\n",
      "0  02               1.237253           7.489489               3.172444   \n",
      "\n",
      "   Energy exported [kWh]  Self consumption index  pv1_capacity [kW]  \\\n",
      "0             -21.762264                0.447749                  1   \n",
      "\n",
      "   battery storage capacity [kWh]  battery charge capacity[kW]  \\\n",
      "0                              25                            5   \n",
      "\n",
      "  climate_conditions             File ID/dataframe  \n",
      "0              sunny  with_noise/timeseries/sim_02  \n",
      "Starting \"DemandModel\" as \"DemandModel-0\" ...\n",
      "Starting \"SimpleGridModel\" as \"SimpleGridModel-0\" ...\n",
      "Starting \"CollectorSim\" as \"CollectorSim-0\" ...\n",
      "Starting \"PVModel\" as \"PVModel-0\" ...\n"
     ]
    },
    {
     "name": "stdout",
     "output_type": "stream",
     "text": [
      "Starting \"BatteryModel\" as \"BatteryModel-0\" ...\n",
      "Starting \"Control\" as \"Control-0\" ...\n",
      "Starting \"NoiseGenerator\" as \"NoiseGenerator-0\" ...\n",
      "Starting simulation.\n"
     ]
    },
    {
     "name": "stdout",
     "output_type": "stream",
     "text": [
      "Simulation finished successfully.\n",
      "Saved to store: temp_files/with_noise_data.h5, dataframe: timeseries/sim_03\n",
      "MultiIndex(levels=[['BatteryModel-0.batt__0', 'DemandModel-0.demand__0', 'NoiseGenerator-0.ng__0', 'PVModel-0.pv__0'], ['BattP', 'BattSoC', 'DemP', 'GridP', 'SolarP']],\n",
      "           labels=[[0, 0, 1, 2, 3], [0, 1, 2, 3, 4]])\n",
      "   ID  Energy bill [DKK/kWh]  Max. in-feed [kW]  Energy Imported [kWh]  \\\n",
      "0  03               1.211559           7.171208               3.106562   \n",
      "\n",
      "   Energy exported [kWh]  Self consumption index  pv1_capacity [kW]  \\\n",
      "0              -26.28644                0.332941                  1   \n",
      "\n",
      "   battery storage capacity [kWh]  battery charge capacity[kW]  \\\n",
      "0                              15                            5   \n",
      "\n",
      "  climate_conditions             File ID/dataframe  \n",
      "0              sunny  with_noise/timeseries/sim_03  \n",
      "Starting \"DemandModel\" as \"DemandModel-0\" ...\n",
      "Starting \"SimpleGridModel\" as \"SimpleGridModel-0\" ...\n",
      "Starting \"CollectorSim\" as \"CollectorSim-0\" ...\n",
      "Starting \"PVModel\" as \"PVModel-0\" ...\n"
     ]
    },
    {
     "name": "stdout",
     "output_type": "stream",
     "text": [
      "Starting \"BatteryModel\" as \"BatteryModel-0\" ...\n",
      "Starting \"Control\" as \"Control-0\" ...\n",
      "Starting \"NoiseGenerator\" as \"NoiseGenerator-0\" ...\n",
      "Starting simulation.\n"
     ]
    },
    {
     "name": "stdout",
     "output_type": "stream",
     "text": [
      "\r",
      "Simulation finished successfully.\n",
      "Saved to store: temp_files/with_noise_data.h5, dataframe: timeseries/sim_04\n",
      "MultiIndex(levels=[['BatteryModel-0.batt__0', 'DemandModel-0.demand__0', 'NoiseGenerator-0.ng__0', 'PVModel-0.pv__0'], ['BattP', 'BattSoC', 'DemP', 'GridP', 'SolarP']],\n",
      "           labels=[[0, 0, 1, 2, 3], [0, 1, 2, 3, 4]])\n",
      "   ID  Energy bill [DKK/kWh]  Max. in-feed [kW]  Energy Imported [kWh]  \\\n",
      "0  04               1.174531           7.056226               3.011617   \n",
      "\n",
      "   Energy exported [kWh]  Self consumption index  pv1_capacity [kW]  \\\n",
      "0             -21.982944                0.442149                  1   \n",
      "\n",
      "   battery storage capacity [kWh]  battery charge capacity[kW]  \\\n",
      "0                              25                            5   \n",
      "\n",
      "  climate_conditions             File ID/dataframe  \n",
      "0              sunny  with_noise/timeseries/sim_04  \n"
     ]
    }
   ],
   "source": [
    "for recipe in recipes:\n",
    "    HEMS_sim.run_simulation(scenario_name,recipes[recipe])"
   ]
  },
  {
   "cell_type": "markdown",
   "metadata": {},
   "source": [
    "## ANOVA\n",
    "In the first cell below, we load the summary statistics. We are going to analyse the self-consumption index. This is done using the ``stats`` module of the ``scipy`` library in the second cell below. See the [associated presentation](doe_erigrid_dtu_summerschool_2018-08-28.pdf) for an explanation of what ANOVA is"
   ]
  },
  {
   "cell_type": "code",
   "execution_count": 4,
   "metadata": {},
   "outputs": [
    {
     "ename": "IndexError",
     "evalue": "list index out of range",
     "output_type": "error",
     "traceback": [
      "\u001b[0;31m---------------------------------------------------------------------------\u001b[0m",
      "\u001b[0;31mIndexError\u001b[0m                                Traceback (most recent call last)",
      "\u001b[0;32m<ipython-input-4-4cf25662fde5>\u001b[0m in \u001b[0;36m<module>\u001b[0;34m()\u001b[0m\n\u001b[1;32m      1\u001b[0m \u001b[0mrun_store\u001b[0m \u001b[0;34m=\u001b[0m \u001b[0mpd\u001b[0m\u001b[0;34m.\u001b[0m\u001b[0mHDFStore\u001b[0m\u001b[0;34m(\u001b[0m\u001b[0;34m'temp_files/runs_summary_{}.h5'\u001b[0m\u001b[0;34m.\u001b[0m\u001b[0mformat\u001b[0m\u001b[0;34m(\u001b[0m\u001b[0mscenario_name\u001b[0m\u001b[0;34m)\u001b[0m\u001b[0;34m)\u001b[0m\u001b[0;34m\u001b[0m\u001b[0;34m\u001b[0m\u001b[0m\n\u001b[0;32m----> 2\u001b[0;31m \u001b[0msummary_1\u001b[0m \u001b[0;34m=\u001b[0m \u001b[0mrun_store\u001b[0m\u001b[0;34m[\u001b[0m\u001b[0mrun_store\u001b[0m\u001b[0;34m.\u001b[0m\u001b[0mkeys\u001b[0m\u001b[0;34m(\u001b[0m\u001b[0;34m)\u001b[0m\u001b[0;34m[\u001b[0m\u001b[0;36m0\u001b[0m\u001b[0;34m]\u001b[0m\u001b[0;34m]\u001b[0m\u001b[0;34m\u001b[0m\u001b[0;34m\u001b[0m\u001b[0m\n\u001b[0m\u001b[1;32m      3\u001b[0m \u001b[0msummary_2\u001b[0m \u001b[0;34m=\u001b[0m \u001b[0mrun_store\u001b[0m\u001b[0;34m[\u001b[0m\u001b[0mrun_store\u001b[0m\u001b[0;34m.\u001b[0m\u001b[0mkeys\u001b[0m\u001b[0;34m(\u001b[0m\u001b[0;34m)\u001b[0m\u001b[0;34m[\u001b[0m\u001b[0;36m1\u001b[0m\u001b[0;34m]\u001b[0m\u001b[0;34m]\u001b[0m\u001b[0;34m\u001b[0m\u001b[0;34m\u001b[0m\u001b[0m\n\u001b[1;32m      4\u001b[0m \u001b[0msummary_3\u001b[0m \u001b[0;34m=\u001b[0m \u001b[0mrun_store\u001b[0m\u001b[0;34m[\u001b[0m\u001b[0mrun_store\u001b[0m\u001b[0;34m.\u001b[0m\u001b[0mkeys\u001b[0m\u001b[0;34m(\u001b[0m\u001b[0;34m)\u001b[0m\u001b[0;34m[\u001b[0m\u001b[0;36m2\u001b[0m\u001b[0;34m]\u001b[0m\u001b[0;34m]\u001b[0m\u001b[0;34m\u001b[0m\u001b[0;34m\u001b[0m\u001b[0m\n\u001b[1;32m      5\u001b[0m \u001b[0msummary_4\u001b[0m \u001b[0;34m=\u001b[0m \u001b[0mrun_store\u001b[0m\u001b[0;34m[\u001b[0m\u001b[0mrun_store\u001b[0m\u001b[0;34m.\u001b[0m\u001b[0mkeys\u001b[0m\u001b[0;34m(\u001b[0m\u001b[0;34m)\u001b[0m\u001b[0;34m[\u001b[0m\u001b[0;36m3\u001b[0m\u001b[0;34m]\u001b[0m\u001b[0;34m]\u001b[0m\u001b[0;34m\u001b[0m\u001b[0;34m\u001b[0m\u001b[0m\n",
      "\u001b[0;31mIndexError\u001b[0m: list index out of range"
     ]
    }
   ],
   "source": [
    "run_store = pd.HDFStore('temp_files/runs_summary_{}.h5'.format(scenario_name))\n",
    "summary_1 = run_store[run_store.keys()[0]]\n",
    "summary_2 = run_store[run_store.keys()[1]]\n",
    "summary_3 = run_store[run_store.keys()[2]]\n",
    "summary_4 = run_store[run_store.keys()[3]]\n",
    "run_store.close()\n",
    "\n",
    "sci1 = summary_1['Self consumption index'].values[0]\n",
    "sci2 = summary_2['Self consumption index'].values[0]\n",
    "sci3 = summary_3['Self consumption index'].values[0]\n",
    "sci4 = summary_4['Self consumption index'].values[0]\n",
    "summary_1"
   ]
  },
  {
   "cell_type": "code",
   "execution_count": 6,
   "metadata": {},
   "outputs": [
    {
     "name": "stdout",
     "output_type": "stream",
     "text": [
      "0.3387884731422805 0.4477486744322107 0.3329406707549937 0.4421485828392219\n",
      "726.035836792332 0.005506784497866895 2.5712432582273242e-06\n",
      "0.001374503388106164 0.9475993139675423 0.9988661481682488\n"
     ]
    }
   ],
   "source": [
    "from scipy import stats\n",
    "Fa, pa = stats.f_oneway([sci1, sci3], [sci2, sci4])\n",
    "Fb, pb = stats.f_oneway([sci1, sci2], [sci3, sci4])\n",
    "Fab, pab = stats.f_oneway([sci1, sci4], [sci2, sci3])\n",
    "print(sci1, sci2, sci3, sci4)\n",
    "print(Fa, Fb, Fab)\n",
    "print(pa, pb, pab)"
   ]
  },
  {
   "cell_type": "code",
   "execution_count": 8,
   "metadata": {},
   "outputs": [
    {
     "data": {
      "text/plain": [
       "[<matplotlib.lines.Line2D at 0x7f71cb78de10>]"
      ]
     },
     "execution_count": 8,
     "metadata": {},
     "output_type": "execute_result"
    },
    {
     "data": {
      "image/png": "[encoded data removed]",
      "text/plain": [
       "<Figure size 432x288 with 1 Axes>"
      ]
     },
     "metadata": {},
     "output_type": "display_data"
    }
   ],
   "source": [
    "plt.plot([1, 2], [(sci1+sci3)/2, (sci2+sci4)/2], 'b-')\n",
    "plt.plot([1, 2], [(sci1+sci2)/2, (sci3+sci4)/2], 'r-')"
   ]
  },
  {
   "cell_type": "code",
   "execution_count": null,
   "metadata": {},
   "outputs": [],
   "source": []
  }
 ],
 "metadata": {
  "kernelspec": {
   "display_name": "Python 3",
   "language": "python",
   "name": "python3"
  },
  "language_info": {
   "codemirror_mode": {
    "name": "ipython",
    "version": 3
   },
   "file_extension": ".py",
   "mimetype": "text/x-python",
   "name": "python",
   "nbconvert_exporter": "python",
   "pygments_lexer": "ipython3",
   "version": "3.6.7"
  }
 },
 "nbformat": 4,
 "nbformat_minor": 2
}
